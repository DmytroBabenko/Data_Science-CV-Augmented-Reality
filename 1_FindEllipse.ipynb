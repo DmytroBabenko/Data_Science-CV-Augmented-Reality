{
  "nbformat": 4,
  "nbformat_minor": 0,
  "metadata": {
    "colab": {
      "name": "1-FindEllipse.ipynb",
      "version": "0.3.2",
      "provenance": [],
      "collapsed_sections": []
    },
    "kernelspec": {
      "name": "python3",
      "display_name": "Python 3"
    }
  },
  "cells": [
    {
      "cell_type": "code",
      "metadata": {
        "id": "jZlKXFwnOJk_",
        "colab_type": "code",
        "colab": {}
      },
      "source": [
        "import numpy as np\n",
        "import cv2 as cv\n",
        "from google.colab.patches import cv2_imshow"
      ],
      "execution_count": 0,
      "outputs": []
    },
    {
      "cell_type": "code",
      "metadata": {
        "id": "f5bOCzLBFdwp",
        "colab_type": "code",
        "colab": {}
      },
      "source": [
        "def get_6_points_on_ellipse(center, axes, angle):\n",
        "  pts = cv.ellipse2Poly(center,axes,angle, 0, 360, 60)\n",
        "  return pts[:6]"
      ],
      "execution_count": 0,
      "outputs": []
    },
    {
      "cell_type": "code",
      "metadata": {
        "id": "8_Yi6siAOcji",
        "colab_type": "code",
        "colab": {}
      },
      "source": [
        "def find_ellipse_by6points(points):\n",
        "  if len(points) < 6:\n",
        "    raise Exception(\"There is no enough points\")\n",
        "    \n",
        "  m = np.zeros((6,6))\n",
        "  r = np.zeros((6,1))\n",
        "\n",
        "  for k in range(0, len(points)):\n",
        "    m[k][0] = points[k][0]*points[k][0]\n",
        "    m[k][1] = 2*points[k][0]*points[k][1]\n",
        "    m[k][2] = points[k][1]*points[k][1]\n",
        "    m[k][3] = 2*points[k][0]\n",
        "    m[k][4] = 2*points[k][1]\n",
        "    m[k][5] = 1\n",
        "\n",
        "  \n",
        "  mu, ms, mv = np.linalg.svd(m)\n",
        "  R = mv[-1,:]\n",
        "  R /= R[0]\n",
        "\n",
        "\n",
        "  E = np.array(\n",
        "      [[R[0], R[1], R[3]],\n",
        "      [R[1], R[2], R[4]],\n",
        "      [R[3], R[4], R[5]] ], np.double )\n",
        "  \n",
        "  if E[0,0]*E[1,1] <= E[0,1]*E[1,0]:\n",
        "    return None\n",
        "  \n",
        "  u, s, v = np.linalg.svd(E)\n",
        "  u2 = np.matmul(u, np.diag(np.sqrt(s)) )\n",
        "  H = np.linalg.inv( u2.T)\n",
        "  \n",
        "  \n",
        "  ellipse_points = []\n",
        "  for alpha in range(0,361):\n",
        "    a = np.matmul( H, [[np.sin(np.pi*alpha/180)], [np.cos(np.pi*alpha/180)], [1]] )\n",
        "    a = (a/a[2])\n",
        "    \n",
        "    ellipse_points.append((int(a[0][0]), int(a[1][0])))\n",
        "    \n",
        "  \n",
        "  return ellipse_points"
      ],
      "execution_count": 0,
      "outputs": []
    },
    {
      "cell_type": "code",
      "metadata": {
        "id": "jEBpMb1f9f2y",
        "colab_type": "code",
        "colab": {}
      },
      "source": [
        "def nose_points(points, sigma):\n",
        "  size = len(points)\n",
        "  r = np.random.normal(0, sigma, size)\n",
        "  phi = np.random.uniform(0, np.pi, size)\n",
        "  \n",
        "  noise_points = points.copy()\n",
        "  for i in range(0, size):\n",
        "    r = np.random.normal(0, sigma, 1)[0]\n",
        "    phi = np.random.uniform(0, np.pi, 1)[0]\n",
        "    noise_points[i][0] += r*np.cos(phi)\n",
        "    noise_points[i][1] += r*np.sin(phi)\n",
        "    \n",
        "  return noise_points\n",
        "  "
      ],
      "execution_count": 0,
      "outputs": []
    },
    {
      "cell_type": "code",
      "metadata": {
        "id": "2haFc1_Qc-lG",
        "colab_type": "code",
        "colab": {}
      },
      "source": [
        "def find_min_square_distance_from_point_to_ellipse(point, center, axes, angle):\n",
        "  ellipse_points = cv.ellipse2Poly(center, axes, angle, 0, 360, 1)\n",
        "  \n",
        "  min_dist2 = 2147483647\n",
        "  min_index = -1\n",
        "  for i in range(0, len(ellipse_points)):\n",
        "    d2 = (ellipse_points[i][0] - point[0])**2 + (ellipse_points[i][1] - point[1])**2\n",
        "    \n",
        "    if min_dist2 > d2:\n",
        "      min_dist2 = d2\n",
        "      min_index = i\n",
        "    \n",
        "  \n",
        "  return min_dist2\n",
        "    \n",
        "    "
      ],
      "execution_count": 0,
      "outputs": []
    },
    {
      "cell_type": "code",
      "metadata": {
        "id": "s15YHcpQfm21",
        "colab_type": "code",
        "colab": {}
      },
      "source": [
        "def find_fatherst_point_from_ellipse(points, center, axes, angle):\n",
        "  max_dist2 = 0\n",
        "  fatherst_point = None\n",
        "  \n",
        "  for point in points:\n",
        "    min_dist2 = find_min_square_distance_from_point_to_ellipse(point, center, axes, angle)\n",
        "    \n",
        "    if max_dist2 < min_dist2:\n",
        "      max_dist2 = min_dist2\n",
        "      fatherst_point = point\n",
        "            \n",
        "  return fatherst_point, np.sqrt(max_dist2)\n",
        "    \n",
        "  "
      ],
      "execution_count": 0,
      "outputs": []
    },
    {
      "cell_type": "markdown",
      "metadata": {
        "id": "g82iB8fWB6s9",
        "colab_type": "text"
      },
      "source": [
        "Initial ellipse parameters"
      ]
    },
    {
      "cell_type": "code",
      "metadata": {
        "id": "W1ittJnRBtY1",
        "colab_type": "code",
        "colab": {}
      },
      "source": [
        "center = (256, 256)\n",
        "axes = (200, 100)\n",
        "angle = 45"
      ],
      "execution_count": 0,
      "outputs": []
    },
    {
      "cell_type": "code",
      "metadata": {
        "id": "J23Uom8yB5Y0",
        "colab_type": "code",
        "outputId": "6916941b-568a-4f37-fb24-12a9fa3ca95f",
        "colab": {
          "base_uri": "https://localhost:8080/",
          "height": 119
        }
      },
      "source": [
        "points6 = get_6_points_on_ellipse(center, axes, angle)\n",
        "points6"
      ],
      "execution_count": 8,
      "outputs": [
        {
          "output_type": "execute_result",
          "data": {
            "text/plain": [
              "array([[397, 397],\n",
              "       [265, 388],\n",
              "       [124, 247],\n",
              "       [115, 115],\n",
              "       [247, 124],\n",
              "       [388, 265]], dtype=int32)"
            ]
          },
          "metadata": {
            "tags": []
          },
          "execution_count": 8
        }
      ]
    },
    {
      "cell_type": "code",
      "metadata": {
        "id": "JbQzKv_PCHcD",
        "colab_type": "code",
        "outputId": "24d8a6bb-bd1c-4a7a-9aa4-b88afecc258a",
        "colab": {
          "base_uri": "https://localhost:8080/",
          "height": 546
        }
      },
      "source": [
        "img = np.zeros((512,512,3), np.uint8)\n",
        "cv.ellipse(img, center, axes, angle, 0, 360, (255, 0, 0), 1)\n",
        "for point in points6:\n",
        "  cv.circle(img, (point[0], point[1]), 3,(0,255,0), -1)\n",
        "print(\"Initial ellipse and selected points\")\n",
        "cv2_imshow(img)"
      ],
      "execution_count": 9,
      "outputs": [
        {
          "output_type": "stream",
          "text": [
            "Initial ellipse and selected points\n"
          ],
          "name": "stdout"
        },
        {
          "output_type": "display_data",
          "data": {
            "image/png": "[encoded data removed]",
            "text/plain": [
              "<PIL.Image.Image image mode=RGB size=512x512 at 0x7F2AFBC31940>"
            ]
          },
          "metadata": {
            "tags": []
          }
        }
      ]
    },
    {
      "cell_type": "code",
      "metadata": {
        "id": "AF0JUNe2C3cF",
        "colab_type": "code",
        "colab": {}
      },
      "source": [
        "sigma = 40"
      ],
      "execution_count": 0,
      "outputs": []
    },
    {
      "cell_type": "code",
      "metadata": {
        "id": "x1qOu0XLCv_m",
        "colab_type": "code",
        "outputId": "73853b90-e191-49be-9011-b5925c5ed4cb",
        "colab": {
          "base_uri": "https://localhost:8080/",
          "height": 546
        }
      },
      "source": [
        "noise_points6 = nose_points(points6, sigma)\n",
        "img = np.zeros((512,512,3), np.uint8)\n",
        "cv.ellipse(img, center, axes, angle, 0, 360, (255, 0, 0), 1)\n",
        "for point in noise_points6:\n",
        "  cv.circle(img, (point[0], point[1]), 3,(0,255,0), -1)\n",
        "print(f\"Initial ellipse and noise points with sigma={sigma}\")\n",
        "cv2_imshow(img)"
      ],
      "execution_count": 11,
      "outputs": [
        {
          "output_type": "stream",
          "text": [
            "Initial ellipse and noise points with sigma=40\n"
          ],
          "name": "stdout"
        },
        {
          "output_type": "display_data",
          "data": {
            "image/png": "[encoded data removed]",
            "text/plain": [
              "<PIL.Image.Image image mode=RGB size=512x512 at 0x7F2AFB3B8668>"
            ]
          },
          "metadata": {
            "tags": []
          }
        }
      ]
    },
    {
      "cell_type": "markdown",
      "metadata": {
        "id": "IM4UwWblD_NX",
        "colab_type": "text"
      },
      "source": [
        "Find ellispe by these noise points\n"
      ]
    },
    {
      "cell_type": "code",
      "metadata": {
        "id": "Bj0fVrjODijO",
        "colab_type": "code",
        "colab": {}
      },
      "source": [
        "ellipse_points = find_ellipse_by6points(noise_points6)\n",
        "if ellipse_points is None:\n",
        "  print(\"Ellipse was not found\")"
      ],
      "execution_count": 0,
      "outputs": []
    },
    {
      "cell_type": "code",
      "metadata": {
        "id": "wO14SDzIELBs",
        "colab_type": "code",
        "outputId": "2d350676-d86e-4236-8e42-80aa10289c53",
        "colab": {
          "base_uri": "https://localhost:8080/",
          "height": 546
        }
      },
      "source": [
        "img = np.zeros((512,512,3), np.uint8)\n",
        "\n",
        "for point in noise_points6:\n",
        "  cv.circle(img, (point[0], point[1]), 3,(0,255,0), -1)\n",
        "  \n",
        "for k in range(0, len(ellipse_points)-1):\n",
        "  cv.line(img, ellipse_points[k], ellipse_points[k+1], (0, 0, 255))\n",
        "\n",
        "\n",
        "print(f\"Found ellispe. Sigma={sigma}\")\n",
        "cv2_imshow(img)"
      ],
      "execution_count": 13,
      "outputs": [
        {
          "output_type": "stream",
          "text": [
            "Found ellispe. Sigma=40\n"
          ],
          "name": "stdout"
        },
        {
          "output_type": "display_data",
          "data": {
            "image/png": "[encoded data removed]",
            "text/plain": [
              "<PIL.Image.Image image mode=RGB size=512x512 at 0x7F2AFB3B8AC8>"
            ]
          },
          "metadata": {
            "tags": []
          }
        }
      ]
    },
    {
      "cell_type": "markdown",
      "metadata": {
        "id": "CNXmQ3bPh_cX",
        "colab_type": "text"
      },
      "source": [
        "Run the experiments\n"
      ]
    },
    {
      "cell_type": "code",
      "metadata": {
        "id": "kq1bu2FIrh8S",
        "colab_type": "code",
        "colab": {
          "base_uri": "https://localhost:8080/",
          "height": 119
        },
        "outputId": "044def3a-d9fc-468f-898c-9fad8b67ce56"
      },
      "source": [
        "points6"
      ],
      "execution_count": 14,
      "outputs": [
        {
          "output_type": "execute_result",
          "data": {
            "text/plain": [
              "array([[397, 397],\n",
              "       [265, 388],\n",
              "       [124, 247],\n",
              "       [115, 115],\n",
              "       [247, 124],\n",
              "       [388, 265]], dtype=int32)"
            ]
          },
          "metadata": {
            "tags": []
          },
          "execution_count": 14
        }
      ]
    },
    {
      "cell_type": "code",
      "metadata": {
        "id": "EK3IRaw3h8r3",
        "colab_type": "code",
        "colab": {}
      },
      "source": [
        "num_of_experiments = 10\n",
        "sigmas = np.array(range(1, 40, 1))"
      ],
      "execution_count": 0,
      "outputs": []
    },
    {
      "cell_type": "code",
      "metadata": {
        "id": "Cpdrn7_qiSqN",
        "colab_type": "code",
        "colab": {
          "base_uri": "https://localhost:8080/",
          "height": 363
        },
        "outputId": "b84a339e-a426-4296-e983-b203e5c5e50d"
      },
      "source": [
        "max_distances = np.zeros(len(sigmas))\n",
        "for i in range(0, len(sigmas)):\n",
        "  sum_dist = 0\n",
        "  num = 0\n",
        "  for n in range(num_of_experiments):\n",
        "    noise_points6 = nose_points(points6, sigmas[i])\n",
        "    found_ellipse_points = find_ellipse_by6points(noise_points6)\n",
        "    if found_ellipse_points is None:\n",
        "      print(\"No ellipse found\")\n",
        "      continue\n",
        "      \n",
        "    p, dist = find_fatherst_point_from_ellipse(found_ellipse_points, center, axes, angle)\n",
        "    \n",
        "    if dist > 1000:\n",
        "      print(\"noise points\", noise_points6)\n",
        "      print(\"flound ellipse\", found_ellipse_points)\n",
        "    \n",
        "    sum_dist += dist\n",
        "    num +=1 \n",
        "    \n",
        "  max_distances[i] = sum_dist / num\n",
        "               \n",
        "max_distances"
      ],
      "execution_count": 35,
      "outputs": [
        {
          "output_type": "stream",
          "text": [
            "noise points [[391 417]\n",
            " [268 363]\n",
            " [125 226]\n",
            " [ 10 109]\n",
            " [237 117]\n",
            " [374 260]]\n",
            "flound ellipse [(-2587, -2028), (-2847, -2233), (-3167, -2484), (-3568, -2799), (-4087, -3207), (-4784, -3756), (-5770, -4532), (-7269, -5712), (-9823, -7724), (-15153, -11924), (-33153, -26109), (176003, 138734), (24075, 18995), (12920, 10205), (8830, 6982), (6707, 5310), (5407, 4286), (4530, 3596), (3898, 3099), (3421, 2724), (3049, 2432), (2750, 2197), (2505, 2005), (2300, 1844), (2127, 1709), (1978, 1592), (1849, 1491), (1736, 1403), (1636, 1326), (1548, 1257), (1469, 1195), (1397, 1140), (1333, 1090), (1274, 1045), (1221, 1004), (1172, 967), (1127, 932), (1086, 900), (1047, 871), (1012, 844), (979, 819), (948, 796), (920, 775), (893, 755), (868, 736), (844, 718), (822, 702), (801, 686), (781, 672), (763, 658), (745, 646), (729, 633), (713, 622), (698, 611), (684, 601), (670, 592), (658, 583), (645, 574), (634, 566), (623, 559), (612, 552), (602, 545), (593, 538), (583, 532), (575, 527), (566, 521), (558, 516), (551, 511), (543, 507), (536, 503), (530, 499), (523, 495), (517, 491), (511, 488), (506, 485), (500, 482), (495, 479), (490, 477), (486, 475), (481, 472), (477, 471), (473, 469), (469, 467), (466, 466), (462, 465), (459, 463), (456, 462), (453, 462), (450, 461), (447, 461), (445, 460), (442, 460), (440, 460), (438, 460), (436, 460), (435, 461), (433, 461), (432, 462), (430, 463), (429, 464), (428, 465), (427, 466), (426, 467), (426, 469), (425, 471), (425, 472), (425, 474), (425, 476), (425, 479), (425, 481), (425, 484), (426, 487), (426, 489), (427, 493), (428, 496), (429, 499), (430, 503), (432, 507), (433, 511), (435, 515), (437, 519), (439, 524), (441, 529), (444, 534), (446, 539), (449, 545), (452, 551), (455, 557), (459, 563), (462, 570), (466, 577), (471, 585), (475, 592), (480, 600), (485, 609), (490, 617), (496, 627), (501, 636), (508, 646), (514, 657), (521, 668), (529, 680), (537, 692), (545, 705), (554, 718), (563, 733), (573, 748), (584, 764), (595, 780), (607, 798), (619, 817), (633, 836), (647, 857), (663, 879), (679, 903), (696, 928), (715, 955), (735, 984), (756, 1015), (780, 1047), (805, 1083), (832, 1121), (861, 1162), (893, 1207), (927, 1256), (965, 1309), (1007, 1367), (1053, 1431), (1103, 1501), (1160, 1579), (1223, 1667), (1293, 1765), (1373, 1875), (1465, 2001), (1570, 2146), (1692, 2314), (1836, 2512), (2007, 2747), (2215, 3032), (2472, 3384), (2797, 3829), (3222, 4411), (3803, 5205), (4640, 6349), (5952, 8143), (8305, 11357), (13739, 18780), (39789, 54354), (-44414, -60633), (-14257, -19449), (-8494, -11578), (-6051, -8241), (-4702, -6397), (-3846, -5227), (-3255, -4419), (-2823, -3827), (-2493, -3375), (-2233, -3019), (-2023, -2731), (-1850, -2494), (-1705, -2294), (-1581, -2125), (-1475, -1979), (-1383, -1852), (-1303, -1740), (-1231, -1641), (-1168, -1554), (-1111, -1475), (-1060, -1404), (-1014, -1340), (-972, -1281), (-934, -1228), (-899, -1179), (-867, -1134), (-838, -1093), (-811, -1054), (-785, -1019), (-762, -986), (-740, -955), (-720, -926), (-701, -899), (-684, -874), (-667, -850), (-652, -827), (-638, -806), (-624, -786), (-611, -768), (-599, -750), (-588, -733), (-577, -717), (-567, -702), (-558, -688), (-549, -674), (-540, -661), (-532, -648), (-524, -637), (-517, -625), (-511, -615), (-504, -604), (-498, -595), (-492, -585), (-487, -576), (-482, -568), (-477, -560), (-472, -552), (-468, -544), (-464, -537), (-460, -530), (-456, -524), (-453, -517), (-449, -511), (-446, -506), (-444, -500), (-441, -495), (-438, -490), (-436, -485), (-434, -480), (-432, -476), (-430, -472), (-428, -467), (-427, -464), (-426, -460), (-424, -456), (-423, -453), (-422, -450), (-422, -447), (-421, -444), (-420, -441), (-420, -439), (-420, -436), (-419, -434), (-419, -432), (-419, -430), (-420, -428), (-420, -426), (-420, -425), (-421, -423), (-422, -422), (-423, -421), (-423, -420), (-425, -419), (-426, -418), (-427, -417), (-428, -417), (-430, -416), (-432, -416), (-434, -416), (-435, -416), (-438, -416), (-440, -416), (-442, -416), (-445, -417), (-447, -417), (-450, -418), (-453, -419), (-456, -420), (-459, -421), (-463, -422), (-466, -424), (-470, -425), (-474, -427), (-478, -429), (-482, -431), (-487, -433), (-492, -436), (-496, -438), (-502, -441), (-507, -444), (-512, -447), (-518, -451), (-524, -454), (-531, -458), (-537, -462), (-544, -466), (-551, -471), (-559, -476), (-567, -481), (-575, -486), (-584, -492), (-593, -498), (-602, -504), (-612, -511), (-622, -518), (-633, -525), (-644, -533), (-656, -541), (-669, -550), (-682, -559), (-696, -569), (-710, -579), (-725, -590), (-741, -602), (-758, -614), (-776, -628), (-795, -641), (-815, -656), (-837, -672), (-859, -689), (-884, -707), (-909, -726), (-937, -747), (-966, -769), (-997, -793), (-1031, -818), (-1068, -846), (-1107, -876), (-1149, -909), (-1195, -944), (-1246, -983), (-1301, -1025), (-1361, -1072), (-1428, -1123), (-1501, -1180), (-1583, -1244), (-1675, -1316), (-1779, -1396), (-1897, -1488), (-2032, -1594), (-2188, -1716), (-2370, -1859), (-2587, -2028)]\n",
            "No ellipse found\n"
          ],
          "name": "stdout"
        },
        {
          "output_type": "execute_result",
          "data": {
            "text/plain": [
              "array([3.22146223e+00, 3.15932498e+00, 3.93250842e+00, 5.39051034e+00,\n",
              "       7.19697535e+00, 8.19274408e+00, 8.91554622e+00, 8.95948255e+00,\n",
              "       1.22026100e+01, 1.29822605e+01, 1.27886530e+01, 1.59482296e+01,\n",
              "       1.44463568e+01, 1.77132202e+01, 1.91287917e+01, 1.90563977e+01,\n",
              "       2.33683105e+01, 2.20954236e+01, 2.48523374e+01, 2.37841821e+01,\n",
              "       2.59841821e+01, 2.94662920e+01, 2.99701050e+01, 2.99328130e+01,\n",
              "       5.10646120e+01, 4.44582739e+01, 3.25702709e+01, 3.87535304e+01,\n",
              "       3.87379282e+01, 3.55851585e+01, 4.42322983e+01, 3.87408088e+01,\n",
              "       5.21365041e+01, 3.39748506e+01, 5.28216298e+01, 5.23326540e+03,\n",
              "       7.25664948e+01, 5.40837621e+01, 4.09111096e+01])"
            ]
          },
          "metadata": {
            "tags": []
          },
          "execution_count": 35
        }
      ]
    },
    {
      "cell_type": "code",
      "metadata": {
        "id": "B-e4JBlnqc6U",
        "colab_type": "code",
        "colab": {
          "base_uri": "https://localhost:8080/",
          "height": 1000
        },
        "outputId": "f390548f-1674-4582-ef57-33cef30808b9"
      },
      "source": [
        "import matplotlib.pyplot as plt\n",
        "fig=plt.figure(figsize=(18, 16), dpi= 80, facecolor='w', edgecolor='k')\n",
        "plt.plot(sigmas, max_distances)\n",
        "plt.ylabel('max distance')\n",
        "plt.xlabel('sigma')\n",
        "plt.grid()\n",
        "plt.show()\n"
      ],
      "execution_count": 36,
      "outputs": [
        {
          "output_type": "display_data",
          "data": {
            "image/png": "[encoded data removed]",
            "text/plain": [
              "<Figure size 1440x1280 with 1 Axes>"
            ]
          },
          "metadata": {
            "tags": []
          }
        }
      ]
    },
    {
      "cell_type": "markdown",
      "metadata": {
        "id": "w2SyV1z2ua2t",
        "colab_type": "text"
      },
      "source": [
        "In the graph above, we can notice that maximum distance increasse with sigma. Futhemore, we noticed one intersting behavior when we have huge distance, it can caused by big scatter of noise points in some occasionaly case. "
      ]
    }
  ]
}